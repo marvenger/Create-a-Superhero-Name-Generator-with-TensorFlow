{
  "nbformat": 4,
  "nbformat_minor": 0,
  "metadata": {
    "accelerator": "GPU",
    "colab": {
      "provenance": []
    },
    "kernelspec": {
      "display_name": "Python 3",
      "language": "python",
      "name": "python3"
    },
    "language_info": {
      "codemirror_mode": {
        "name": "ipython",
        "version": 3
      },
      "file_extension": ".py",
      "mimetype": "text/x-python",
      "name": "python",
      "nbconvert_exporter": "python",
      "pygments_lexer": "ipython3",
      "version": "3.8.5"
    }
  },
  "cells": [
    {
      "cell_type": "markdown",
      "metadata": {
        "id": "21XXWP7Fpt2L"
      },
      "source": [
        "# Superhero (and Supervillain) Name Generator\n",
        "\n",
        "---\n",
        "\n",
        "[Superhero Names Dataset](https://github.com/am1tyadav/superhero)"
      ]
    },
    {
      "cell_type": "markdown",
      "metadata": {
        "id": "H6P0NU5Cpt2R"
      },
      "source": [
        "## Task 2\n",
        "\n",
        "1. Import the data\n",
        "2. Create a tokenizer\n",
        "3. Char to index and Index to char dictionaries"
      ]
    },
    {
      "cell_type": "code",
      "metadata": {
        "colab": {
          "base_uri": "https://localhost:8080/"
        },
        "id": "srULhalZpt2M",
        "outputId": "cb12dc32-a219-4166-defc-2c0187c62bf2"
      },
      "source": [
        "!git clone https://github.com/am1tyadav/superhero"
      ],
      "execution_count": null,
      "outputs": [
        {
          "output_type": "stream",
          "name": "stdout",
          "text": [
            "Cloning into 'superhero'...\n",
            "remote: Enumerating objects: 8, done.\u001b[K\n",
            "remote: Counting objects: 100% (8/8), done.\u001b[K\n",
            "remote: Compressing objects: 100% (7/7), done.\u001b[K\n",
            "remote: Total 8 (delta 0), reused 4 (delta 0), pack-reused 0\u001b[K\n",
            "Unpacking objects: 100% (8/8), done.\n"
          ]
        }
      ]
    },
    {
      "cell_type": "code",
      "metadata": {
        "colab": {
          "base_uri": "https://localhost:8080/",
          "height": 35
        },
        "id": "uq4CLmsLpt2P",
        "outputId": "ade34c7f-eab8-486b-b5f4-9ce78acad9b4"
      },
      "source": [
        "with open('superhero/superheroes.txt', 'r') as f:\n",
        "  data = f.read()\n",
        "\n",
        "data[:100]"
      ],
      "execution_count": null,
      "outputs": [
        {
          "output_type": "execute_result",
          "data": {
            "application/vnd.google.colaboratory.intrinsic+json": {
              "type": "string"
            },
            "text/plain": [
              "'jumpa\\t\\ndoctor fate\\t\\nstarlight\\t\\nisildur\\t\\nlasher\\t\\nvarvara\\t\\nthe target\\t\\naxel\\t\\nbattra\\t\\nchangeling\\t\\npyrrh'"
            ]
          },
          "metadata": {},
          "execution_count": 2
        }
      ]
    },
    {
      "cell_type": "code",
      "metadata": {
        "colab": {
          "base_uri": "https://localhost:8080/"
        },
        "id": "JqhtLuAHpt2R",
        "outputId": "dcfa8865-b5b0-4169-ce2d-acfbdb1e4677"
      },
      "source": [
        "import tensorflow as tf \n",
        "print(tf.__version__)"
      ],
      "execution_count": null,
      "outputs": [
        {
          "output_type": "stream",
          "name": "stdout",
          "text": [
            "2.6.0\n"
          ]
        }
      ]
    },
    {
      "cell_type": "code",
      "metadata": {
        "id": "95Lo1Yqzpt2T"
      },
      "source": [
        "tokenizer = tf.keras.preprocessing.text.Tokenizer(\n",
        "    filters='!\"#$%&()*+,-./:;<=>?@[\\\\]^_`{|}~',\n",
        "    split='\\n',\n",
        ")"
      ],
      "execution_count": null,
      "outputs": []
    },
    {
      "cell_type": "code",
      "metadata": {
        "id": "qYfC4sj2pt2V"
      },
      "source": [
        "tokenizer.fit_on_texts(data)"
      ],
      "execution_count": null,
      "outputs": []
    },
    {
      "cell_type": "code",
      "metadata": {
        "colab": {
          "base_uri": "https://localhost:8080/"
        },
        "id": "EO4-dPM6pt2X",
        "outputId": "f7abffff-5cf0-40d3-e95c-7966dc378415"
      },
      "source": [
        "char_to_index = tokenizer.word_index\n",
        "index_to_char = dict((v, k) for k, v in char_to_index.items())\n",
        "\n",
        "print(index_to_char)"
      ],
      "execution_count": null,
      "outputs": [
        {
          "output_type": "stream",
          "name": "stdout",
          "text": [
            "{1: '\\t', 2: 'a', 3: 'e', 4: 'r', 5: 'o', 6: 'n', 7: 'i', 8: ' ', 9: 't', 10: 's', 11: 'l', 12: 'm', 13: 'h', 14: 'd', 15: 'c', 16: 'u', 17: 'g', 18: 'k', 19: 'b', 20: 'p', 21: 'y', 22: 'w', 23: 'f', 24: 'v', 25: 'j', 26: 'z', 27: 'x', 28: 'q'}\n"
          ]
        }
      ]
    },
    {
      "cell_type": "markdown",
      "metadata": {
        "id": "SMwtIw_Bpt2Z"
      },
      "source": [
        "## Task 3\n",
        "\n",
        "1. Converting between names and sequences"
      ]
    },
    {
      "cell_type": "code",
      "metadata": {
        "colab": {
          "base_uri": "https://localhost:8080/"
        },
        "id": "N7iQLIXzpt2a",
        "outputId": "1d25e0ad-fd89-46b8-d9cb-a2bdcdabf0e1"
      },
      "source": [
        "names = data.splitlines()\n",
        "names[:10]"
      ],
      "execution_count": null,
      "outputs": [
        {
          "output_type": "execute_result",
          "data": {
            "text/plain": [
              "['jumpa\\t',\n",
              " 'doctor fate\\t',\n",
              " 'starlight\\t',\n",
              " 'isildur\\t',\n",
              " 'lasher\\t',\n",
              " 'varvara\\t',\n",
              " 'the target\\t',\n",
              " 'axel\\t',\n",
              " 'battra\\t',\n",
              " 'changeling\\t']"
            ]
          },
          "metadata": {},
          "execution_count": 7
        }
      ]
    },
    {
      "cell_type": "code",
      "metadata": {
        "colab": {
          "base_uri": "https://localhost:8080/"
        },
        "id": "n_-TTfqipt2c",
        "outputId": "9b6222c7-32f1-4354-e033-d2f7eb34e28c"
      },
      "source": [
        "tokenizer.texts_to_sequences(names[0])"
      ],
      "execution_count": null,
      "outputs": [
        {
          "output_type": "execute_result",
          "data": {
            "text/plain": [
              "[[25], [16], [12], [20], [2], [1]]"
            ]
          },
          "metadata": {},
          "execution_count": 8
        }
      ]
    },
    {
      "cell_type": "code",
      "metadata": {
        "id": "P6IsKH1Upt2e"
      },
      "source": [
        "def name_to_seq(name):\n",
        "  return [tokenizer.texts_to_sequences(c)[0][0] for c in name]"
      ],
      "execution_count": null,
      "outputs": []
    },
    {
      "cell_type": "code",
      "metadata": {
        "colab": {
          "base_uri": "https://localhost:8080/"
        },
        "id": "TuLUiMP3pt2g",
        "outputId": "89b7208c-22c5-4f1d-ce53-d3a3982eb1e6"
      },
      "source": [
        "name_to_seq(names[0])"
      ],
      "execution_count": null,
      "outputs": [
        {
          "output_type": "execute_result",
          "data": {
            "text/plain": [
              "[25, 16, 12, 20, 2, 1]"
            ]
          },
          "metadata": {},
          "execution_count": 10
        }
      ]
    },
    {
      "cell_type": "code",
      "metadata": {
        "id": "yFUYhimKpt2h"
      },
      "source": [
        "def seq_to_name(seq):\n",
        "  return ''.join([index_to_char[i] for i in seq if i != 0])"
      ],
      "execution_count": null,
      "outputs": []
    },
    {
      "cell_type": "code",
      "metadata": {
        "colab": {
          "base_uri": "https://localhost:8080/",
          "height": 35
        },
        "id": "ROhCqmhLpt2k",
        "outputId": "030d5114-a3a2-4840-c02b-2f4951e38b8c"
      },
      "source": [
        "seq_to_name(name_to_seq(names[0]))"
      ],
      "execution_count": null,
      "outputs": [
        {
          "output_type": "execute_result",
          "data": {
            "application/vnd.google.colaboratory.intrinsic+json": {
              "type": "string"
            },
            "text/plain": [
              "'jumpa\\t'"
            ]
          },
          "metadata": {},
          "execution_count": 12
        }
      ]
    },
    {
      "cell_type": "markdown",
      "metadata": {
        "id": "uCbAzsNjpt2m"
      },
      "source": [
        "## Task 4\n",
        "\n",
        "1. Creating sequences\n",
        "2. Padding all sequences"
      ]
    },
    {
      "cell_type": "code",
      "metadata": {
        "id": "zstNn-0dpt2m"
      },
      "source": [
        "sequences= []\n",
        "\n",
        "for name in names:\n",
        "  seq = name_to_seq(name)\n",
        "  if len(seq) >= 2:\n",
        "    sequences += [seq[:i] for i in range(2, len(seq) + 1)]"
      ],
      "execution_count": null,
      "outputs": []
    },
    {
      "cell_type": "code",
      "metadata": {
        "colab": {
          "base_uri": "https://localhost:8080/"
        },
        "id": "BjRTMysvpt2o",
        "outputId": "748acff3-49bb-4f7f-ad04-54a12a454b17"
      },
      "source": [
        "sequences[:10]"
      ],
      "execution_count": null,
      "outputs": [
        {
          "output_type": "execute_result",
          "data": {
            "text/plain": [
              "[[25, 16],\n",
              " [25, 16, 12],\n",
              " [25, 16, 12, 20],\n",
              " [25, 16, 12, 20, 2],\n",
              " [25, 16, 12, 20, 2, 1],\n",
              " [14, 5],\n",
              " [14, 5, 15],\n",
              " [14, 5, 15, 9],\n",
              " [14, 5, 15, 9, 5],\n",
              " [14, 5, 15, 9, 5, 4]]"
            ]
          },
          "metadata": {},
          "execution_count": 14
        }
      ]
    },
    {
      "cell_type": "code",
      "metadata": {
        "colab": {
          "base_uri": "https://localhost:8080/"
        },
        "id": "SR68pu2tpt2q",
        "outputId": "cc65052d-ce07-4628-beec-9f07969e54ed"
      },
      "source": [
        "max_len = max([len(x) for x in sequences])\n",
        "print(max_len)"
      ],
      "execution_count": null,
      "outputs": [
        {
          "output_type": "stream",
          "name": "stdout",
          "text": [
            "33\n"
          ]
        }
      ]
    },
    {
      "cell_type": "code",
      "metadata": {
        "colab": {
          "base_uri": "https://localhost:8080/"
        },
        "id": "h_1BtWO7pt2r",
        "outputId": "3cf82789-5575-44bf-f2d6-0534d2922366"
      },
      "source": [
        "padded_sequences = tf.keras.preprocessing.sequence.pad_sequences(\n",
        "    sequences, padding='pre',\n",
        "    maxlen=max_len\n",
        ")\n",
        "\n",
        "print(padded_sequences[0])"
      ],
      "execution_count": null,
      "outputs": [
        {
          "output_type": "stream",
          "name": "stdout",
          "text": [
            "[ 0  0  0  0  0  0  0  0  0  0  0  0  0  0  0  0  0  0  0  0  0  0  0  0\n",
            "  0  0  0  0  0  0  0 25 16]\n"
          ]
        }
      ]
    },
    {
      "cell_type": "code",
      "metadata": {
        "colab": {
          "base_uri": "https://localhost:8080/"
        },
        "id": "sPlrLRpSpt2t",
        "outputId": "b8f943fe-3f67-4ef1-e67b-6152a2be8123"
      },
      "source": [
        "padded_sequences.shape"
      ],
      "execution_count": null,
      "outputs": [
        {
          "output_type": "execute_result",
          "data": {
            "text/plain": [
              "(88279, 33)"
            ]
          },
          "metadata": {},
          "execution_count": 25
        }
      ]
    },
    {
      "cell_type": "markdown",
      "metadata": {
        "id": "4WPypqx8RfRu"
      },
      "source": [
        "## Task 5: Creating Training and Validation Sets\n",
        "\n",
        "1. Creating training and validation sets"
      ]
    },
    {
      "cell_type": "code",
      "metadata": {
        "colab": {
          "base_uri": "https://localhost:8080/"
        },
        "id": "BE4BIeSnpt2v",
        "outputId": "1266094f-f8e8-485a-d89a-ddc59c735be6"
      },
      "source": [
        "x, y = padded_sequences[:, :-1], padded_sequences[:, -1]\n",
        "print(x.shape, y.shape)\n",
        "print(x)"
      ],
      "execution_count": null,
      "outputs": [
        {
          "output_type": "stream",
          "name": "stdout",
          "text": [
            "(88279, 32) (88279,)\n",
            "[[ 0  0  0 ...  0  0 25]\n",
            " [ 0  0  0 ...  0 25 16]\n",
            " [ 0  0  0 ... 25 16 12]\n",
            " ...\n",
            " [ 0  0  0 ... 15 11  5]\n",
            " [ 0  0  0 ... 11  5 20]\n",
            " [ 0  0  0 ...  5 20 10]]\n"
          ]
        }
      ]
    },
    {
      "cell_type": "code",
      "metadata": {
        "colab": {
          "base_uri": "https://localhost:8080/"
        },
        "id": "jWKfJNVXRfRu",
        "outputId": "6395264c-d78d-48f0-cbec-b6425c37e9bd"
      },
      "source": [
        "from sklearn.model_selection import train_test_split\n",
        "\n",
        "x_train, x_test, y_train, y_test = train_test_split(x, y)\n",
        "\n",
        "print(x_train.shape, y_train.shape)\n",
        "print(x_test.shape, y_test.shape)"
      ],
      "execution_count": null,
      "outputs": [
        {
          "output_type": "stream",
          "name": "stdout",
          "text": [
            "(66209, 32) (66209,)\n",
            "(22070, 32) (22070,)\n"
          ]
        }
      ]
    },
    {
      "cell_type": "code",
      "metadata": {
        "colab": {
          "base_uri": "https://localhost:8080/"
        },
        "id": "cgqRZtqnpt2x",
        "outputId": "5ddd9dab-fa2a-4a22-d608-5ee52f2b72e1"
      },
      "source": [
        "num_chars = len(char_to_index.keys()) + 1\n",
        "print(num_chars)"
      ],
      "execution_count": null,
      "outputs": [
        {
          "output_type": "stream",
          "name": "stdout",
          "text": [
            "29\n"
          ]
        }
      ]
    },
    {
      "cell_type": "markdown",
      "metadata": {
        "id": "UsM2fs3_RfRu"
      },
      "source": [
        "## Task 6: Creating the Model"
      ]
    },
    {
      "cell_type": "code",
      "metadata": {
        "colab": {
          "base_uri": "https://localhost:8080/"
        },
        "id": "2dPlCmTYRfRu",
        "outputId": "2a6e888f-c455-4fe1-f07a-1ca648b76d8f"
      },
      "source": [
        "from tensorflow.keras.models import Sequential\n",
        "from tensorflow.keras.layers import Embedding, Conv1D, MaxPool1D, LSTM\n",
        "from tensorflow.keras.layers import Bidirectional, Dense\n",
        "\n",
        "model = Sequential([\n",
        "                    Embedding(num_chars, 8, input_length=max_len-1),\n",
        "                    Conv1D(64, 5, strides=1, activation='tanh', padding='causal'),\n",
        "                    MaxPool1D(2),\n",
        "                    LSTM(32),\n",
        "                    Dense(num_chars, activation='softmax')\n",
        "])\n",
        "\n",
        "model.compile(\n",
        "    loss='sparse_categorical_crossentropy',\n",
        "    optimizer='adam',\n",
        "    metrics=['accuracy']\n",
        ")\n",
        "\n",
        "model.summary()"
      ],
      "execution_count": null,
      "outputs": [
        {
          "output_type": "stream",
          "name": "stdout",
          "text": [
            "Model: \"sequential\"\n",
            "_________________________________________________________________\n",
            "Layer (type)                 Output Shape              Param #   \n",
            "=================================================================\n",
            "embedding (Embedding)        (None, 32, 8)             232       \n",
            "_________________________________________________________________\n",
            "conv1d (Conv1D)              (None, 32, 64)            2624      \n",
            "_________________________________________________________________\n",
            "max_pooling1d (MaxPooling1D) (None, 16, 64)            0         \n",
            "_________________________________________________________________\n",
            "lstm (LSTM)                  (None, 32)                12416     \n",
            "_________________________________________________________________\n",
            "dense (Dense)                (None, 29)                957       \n",
            "=================================================================\n",
            "Total params: 16,229\n",
            "Trainable params: 16,229\n",
            "Non-trainable params: 0\n",
            "_________________________________________________________________\n"
          ]
        }
      ]
    },
    {
      "cell_type": "markdown",
      "metadata": {
        "id": "du_WBvUHRfRu"
      },
      "source": [
        "## Task 7: Training the Model"
      ]
    },
    {
      "cell_type": "code",
      "metadata": {
        "colab": {
          "base_uri": "https://localhost:8080/"
        },
        "id": "j0Ssl4qupt22",
        "outputId": "60dd0fcb-6a37-47de-b40e-4ca4f11b4591"
      },
      "source": [
        "h = model.fit(\n",
        "    x_train, y_train,\n",
        "    validation_data=(x_test, y_test),\n",
        "    epochs=50, verbose=2,\n",
        "    callbacks=[\n",
        "               tf.keras.callbacks.EarlyStopping(monitor='val_accuracy', patience=3)\n",
        "    ]\n",
        ")"
      ],
      "execution_count": null,
      "outputs": [
        {
          "output_type": "stream",
          "name": "stdout",
          "text": [
            "Epoch 1/50\n",
            "2070/2070 - 47s - loss: 2.7635 - accuracy: 0.1858 - val_loss: 2.5994 - val_accuracy: 0.2206\n",
            "Epoch 2/50\n",
            "2070/2070 - 15s - loss: 2.5449 - accuracy: 0.2352 - val_loss: 2.5019 - val_accuracy: 0.2420\n",
            "Epoch 3/50\n",
            "2070/2070 - 16s - loss: 2.4698 - accuracy: 0.2555 - val_loss: 2.4408 - val_accuracy: 0.2574\n",
            "Epoch 4/50\n",
            "2070/2070 - 15s - loss: 2.4187 - accuracy: 0.2679 - val_loss: 2.4090 - val_accuracy: 0.2729\n",
            "Epoch 5/50\n",
            "2070/2070 - 15s - loss: 2.3825 - accuracy: 0.2806 - val_loss: 2.3827 - val_accuracy: 0.2822\n",
            "Epoch 6/50\n",
            "2070/2070 - 15s - loss: 2.3517 - accuracy: 0.2875 - val_loss: 2.3599 - val_accuracy: 0.2879\n",
            "Epoch 7/50\n",
            "2070/2070 - 15s - loss: 2.3235 - accuracy: 0.2971 - val_loss: 2.3338 - val_accuracy: 0.2947\n",
            "Epoch 8/50\n",
            "2070/2070 - 15s - loss: 2.2986 - accuracy: 0.3071 - val_loss: 2.3228 - val_accuracy: 0.3005\n",
            "Epoch 9/50\n",
            "2070/2070 - 15s - loss: 2.2754 - accuracy: 0.3108 - val_loss: 2.2997 - val_accuracy: 0.3083\n",
            "Epoch 10/50\n",
            "2070/2070 - 15s - loss: 2.2525 - accuracy: 0.3204 - val_loss: 2.2871 - val_accuracy: 0.3110\n",
            "Epoch 11/50\n",
            "2070/2070 - 15s - loss: 2.2327 - accuracy: 0.3260 - val_loss: 2.2734 - val_accuracy: 0.3183\n",
            "Epoch 12/50\n",
            "2070/2070 - 15s - loss: 2.2152 - accuracy: 0.3309 - val_loss: 2.2581 - val_accuracy: 0.3208\n",
            "Epoch 13/50\n",
            "2070/2070 - 15s - loss: 2.1981 - accuracy: 0.3355 - val_loss: 2.2503 - val_accuracy: 0.3242\n",
            "Epoch 14/50\n",
            "2070/2070 - 16s - loss: 2.1821 - accuracy: 0.3404 - val_loss: 2.2390 - val_accuracy: 0.3300\n",
            "Epoch 15/50\n",
            "2070/2070 - 15s - loss: 2.1676 - accuracy: 0.3453 - val_loss: 2.2315 - val_accuracy: 0.3318\n",
            "Epoch 16/50\n",
            "2070/2070 - 15s - loss: 2.1534 - accuracy: 0.3487 - val_loss: 2.2273 - val_accuracy: 0.3358\n",
            "Epoch 17/50\n",
            "2070/2070 - 15s - loss: 2.1408 - accuracy: 0.3545 - val_loss: 2.2221 - val_accuracy: 0.3391\n",
            "Epoch 18/50\n",
            "2070/2070 - 15s - loss: 2.1283 - accuracy: 0.3593 - val_loss: 2.2193 - val_accuracy: 0.3405\n",
            "Epoch 19/50\n",
            "2070/2070 - 15s - loss: 2.1178 - accuracy: 0.3628 - val_loss: 2.2105 - val_accuracy: 0.3427\n",
            "Epoch 20/50\n",
            "2070/2070 - 15s - loss: 2.1070 - accuracy: 0.3666 - val_loss: 2.2077 - val_accuracy: 0.3460\n",
            "Epoch 21/50\n",
            "2070/2070 - 15s - loss: 2.0985 - accuracy: 0.3698 - val_loss: 2.2055 - val_accuracy: 0.3468\n",
            "Epoch 22/50\n",
            "2070/2070 - 15s - loss: 2.0878 - accuracy: 0.3729 - val_loss: 2.1997 - val_accuracy: 0.3448\n",
            "Epoch 23/50\n",
            "2070/2070 - 15s - loss: 2.0792 - accuracy: 0.3767 - val_loss: 2.1986 - val_accuracy: 0.3493\n",
            "Epoch 24/50\n",
            "2070/2070 - 15s - loss: 2.0708 - accuracy: 0.3788 - val_loss: 2.1930 - val_accuracy: 0.3476\n",
            "Epoch 25/50\n",
            "2070/2070 - 15s - loss: 2.0632 - accuracy: 0.3823 - val_loss: 2.1920 - val_accuracy: 0.3510\n",
            "Epoch 26/50\n",
            "2070/2070 - 15s - loss: 2.0553 - accuracy: 0.3839 - val_loss: 2.1871 - val_accuracy: 0.3544\n",
            "Epoch 27/50\n",
            "2070/2070 - 15s - loss: 2.0480 - accuracy: 0.3871 - val_loss: 2.1920 - val_accuracy: 0.3507\n",
            "Epoch 28/50\n",
            "2070/2070 - 15s - loss: 2.0414 - accuracy: 0.3894 - val_loss: 2.1835 - val_accuracy: 0.3548\n",
            "Epoch 29/50\n",
            "2070/2070 - 15s - loss: 2.0342 - accuracy: 0.3910 - val_loss: 2.1846 - val_accuracy: 0.3536\n",
            "Epoch 30/50\n",
            "2070/2070 - 15s - loss: 2.0285 - accuracy: 0.3921 - val_loss: 2.1820 - val_accuracy: 0.3551\n",
            "Epoch 31/50\n",
            "2070/2070 - 15s - loss: 2.0231 - accuracy: 0.3942 - val_loss: 2.1803 - val_accuracy: 0.3576\n",
            "Epoch 32/50\n",
            "2070/2070 - 15s - loss: 2.0165 - accuracy: 0.3968 - val_loss: 2.1811 - val_accuracy: 0.3585\n",
            "Epoch 33/50\n",
            "2070/2070 - 15s - loss: 2.0107 - accuracy: 0.3994 - val_loss: 2.1809 - val_accuracy: 0.3617\n",
            "Epoch 34/50\n",
            "2070/2070 - 15s - loss: 2.0055 - accuracy: 0.3997 - val_loss: 2.1798 - val_accuracy: 0.3586\n",
            "Epoch 35/50\n",
            "2070/2070 - 15s - loss: 2.0008 - accuracy: 0.4018 - val_loss: 2.1802 - val_accuracy: 0.3620\n",
            "Epoch 36/50\n",
            "2070/2070 - 15s - loss: 1.9953 - accuracy: 0.4026 - val_loss: 2.1826 - val_accuracy: 0.3594\n",
            "Epoch 37/50\n",
            "2070/2070 - 16s - loss: 1.9909 - accuracy: 0.4045 - val_loss: 2.1808 - val_accuracy: 0.3626\n",
            "Epoch 38/50\n",
            "2070/2070 - 15s - loss: 1.9859 - accuracy: 0.4073 - val_loss: 2.1802 - val_accuracy: 0.3637\n",
            "Epoch 39/50\n",
            "2070/2070 - 15s - loss: 1.9823 - accuracy: 0.4079 - val_loss: 2.1822 - val_accuracy: 0.3599\n",
            "Epoch 40/50\n",
            "2070/2070 - 15s - loss: 1.9774 - accuracy: 0.4099 - val_loss: 2.1757 - val_accuracy: 0.3662\n",
            "Epoch 41/50\n",
            "2070/2070 - 16s - loss: 1.9729 - accuracy: 0.4102 - val_loss: 2.1825 - val_accuracy: 0.3623\n",
            "Epoch 42/50\n",
            "2070/2070 - 15s - loss: 1.9694 - accuracy: 0.4126 - val_loss: 2.1781 - val_accuracy: 0.3657\n",
            "Epoch 43/50\n",
            "2070/2070 - 15s - loss: 1.9656 - accuracy: 0.4123 - val_loss: 2.1792 - val_accuracy: 0.3636\n"
          ]
        }
      ]
    },
    {
      "cell_type": "code",
      "metadata": {
        "colab": {
          "base_uri": "https://localhost:8080/",
          "height": 265
        },
        "id": "AkkG3lEOm4OS",
        "outputId": "a7d6d778-26c3-426f-f520-51278f272357"
      },
      "source": [
        "from matplotlib import pyplot as plt\n",
        "\n",
        "epochs_ran = len(h.history['loss'])\n",
        "\n",
        "plt.plot(range(0, epochs_ran), h.history['val_accuracy'], label='Validation')\n",
        "plt.plot(range(0, epochs_ran), h.history['accuracy'], label='Training')\n",
        "plt.legend()\n",
        "plt.show()"
      ],
      "execution_count": null,
      "outputs": [
        {
          "output_type": "display_data",
          "data": {
            "image/png": "[encoded data removed]",
            "text/plain": [
              "<Figure size 432x288 with 1 Axes>"
            ]
          },
          "metadata": {
            "needs_background": "light"
          }
        }
      ]
    },
    {
      "cell_type": "markdown",
      "metadata": {
        "id": "j74nkW5xRfRu"
      },
      "source": [
        "## Task 8: Generate Names!"
      ]
    },
    {
      "cell_type": "code",
      "metadata": {
        "id": "9f50aTRcpt24"
      },
      "source": [
        "def generate_names(seed):\n",
        "  for i in range(0, 40):\n",
        "    seq = name_to_seq(seed)\n",
        "    padded = tf.keras.preprocessing.sequence.pad_sequences([seq], padding='pre',\n",
        "                                                           maxlen=max_len-1,\n",
        "                                                           truncating='pre')\n",
        "    pred = model.predict(padded)[0]\n",
        "    pred_char = index_to_char[tf.argmax(pred).numpy()]\n",
        "    seed += pred_char\n",
        "\n",
        "    if pred_char == '\\t':\n",
        "      break\n",
        "  print(seed)"
      ],
      "execution_count": null,
      "outputs": []
    },
    {
      "cell_type": "code",
      "metadata": {
        "colab": {
          "base_uri": "https://localhost:8080/"
        },
        "id": "faQ0FInlpt26",
        "outputId": "949498c5-7fa1-48ae-a51e-aa17952cbf55"
      },
      "source": [
        "generate_names('s')"
      ],
      "execution_count": null,
      "outputs": [
        {
          "output_type": "stream",
          "name": "stdout",
          "text": [
            "spiderman\t\n"
          ]
        }
      ]
    },
    {
      "cell_type": "code",
      "metadata": {
        "id": "dD7DcpHiopOv"
      },
      "source": [],
      "execution_count": null,
      "outputs": []
    }
  ]
}